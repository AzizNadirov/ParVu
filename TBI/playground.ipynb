{
 "cells": [
  {
   "cell_type": "code",
   "execution_count": 1,
   "metadata": {},
   "outputs": [],
   "source": [
    "import pandas as pd"
   ]
  },
  {
   "cell_type": "code",
   "execution_count": 5,
   "metadata": {},
   "outputs": [
    {
     "data": {
      "text/plain": [
       "['ELSE',\n",
       " 'LIMIT',\n",
       " 'CASE',\n",
       " 'SELECT',\n",
       " 'OR',\n",
       " 'FROM',\n",
       " 'GROUP BY',\n",
       " 'OFFSET',\n",
       " 'ORDER BY',\n",
       " 'CREATE',\n",
       " 'INNER JOIN',\n",
       " 'IN',\n",
       " 'HAVING',\n",
       " 'DISTINCT',\n",
       " 'NULL',\n",
       " 'ON',\n",
       " 'JOIN',\n",
       " 'WHERE',\n",
       " 'TABLE',\n",
       " 'LEFT JOIN',\n",
       " 'THEN',\n",
       " 'RIGHT JOIN',\n",
       " 'AND',\n",
       " 'LIKE',\n",
       " 'END',\n",
       " 'BETWEEN',\n",
       " 'NOT',\n",
       " 'AS',\n",
       " 'IS',\n",
       " 'WHEN']"
      ]
     },
     "execution_count": 5,
     "metadata": {},
     "output_type": "execute_result"
    }
   ],
   "source": [
    "kws = \"['ELSE', 'LIMIT', 'CASE', 'SELECT', 'OR', 'FROM', 'GROUP BY', 'OFFSET', 'ORDER BY', 'CREATE', 'INNER JOIN', 'IN', 'HAVING', 'DISTINCT', 'NULL', 'ON', 'JOIN', 'WHERE', 'TABLE', 'LEFT JOIN', 'THEN', 'RIGHT JOIN', 'AND', 'LIKE', 'END', 'BETWEEN', 'NOT', 'AS', 'IS', 'WHEN']\"\n",
    "\n",
    "kws = [i.strip().replace(\"'\", \"\") for i in kws[1:-1].split(',')]\n",
    "\n",
    "\n"
   ]
  },
  {
   "cell_type": "code",
   "execution_count": null,
   "metadata": {},
   "outputs": [],
   "source": []
  },
  {
   "cell_type": "code",
   "execution_count": null,
   "metadata": {},
   "outputs": [],
   "source": []
  },
  {
   "cell_type": "code",
   "execution_count": null,
   "metadata": {},
   "outputs": [],
   "source": []
  }
 ],
 "metadata": {
  "kernelspec": {
   "display_name": ".venv",
   "language": "python",
   "name": "python3"
  },
  "language_info": {
   "codemirror_mode": {
    "name": "ipython",
    "version": 3
   },
   "file_extension": ".py",
   "mimetype": "text/x-python",
   "name": "python",
   "nbconvert_exporter": "python",
   "pygments_lexer": "ipython3",
   "version": "3.11.9"
  }
 },
 "nbformat": 4,
 "nbformat_minor": 2
}
