{
 "cells": [
  {
   "cell_type": "code",
   "execution_count": null,
   "metadata": {},
   "outputs": [],
   "source": [
    "import pandas as pd\n",
    "import re"
   ]
  },
  {
   "cell_type": "code",
   "execution_count": null,
   "metadata": {},
   "outputs": [],
   "source": [
    "query = \"\"\"  select * \\nfrom     data limit  1000  \"\"\""
   ]
  },
  {
   "cell_type": "code",
   "execution_count": null,
   "metadata": {},
   "outputs": [],
   "source": [
    "def queryRevisor(query: str):\n",
    "    import re\n",
    "\n",
    "    query = \"\"\" select * \\nfrom  data limit 1000 \"\"\"\n",
    "    result = re.sub(r'\\s+', ' ', query)\n",
    "    return result.strip()\n",
    "\n",
    "\n",
    "q = queryRevisor(query)"
   ]
  },
  {
   "cell_type": "code",
   "execution_count": null,
   "metadata": {},
   "outputs": [],
   "source": [
    "limit = re.findall(r'limit\\s+([0-9]+)', q)\n",
    "limit = limit[0]"
   ]
  },
  {
   "cell_type": "code",
   "execution_count": 3,
   "metadata": {},
   "outputs": [
    {
     "data": {
      "text/plain": [
       "True"
      ]
     },
     "execution_count": 3,
     "metadata": {},
     "output_type": "execute_result"
    }
   ],
   "source": [
    "from pathlib import Path\n",
    "\n",
    "Path('D:\\\\code\\\\ParVu\\\\dist\\\\ParVu\\\\src\\\\history\\\\recents.json').exists()\n",
    "Path(Path(\"d:\\\\code\\\\ParVu\\\\src\\\\settings\\\\default_settings.json\").as_posix()).exists()"
   ]
  }
 ],
 "metadata": {
  "kernelspec": {
   "display_name": ".venv",
   "language": "python",
   "name": "python3"
  },
  "language_info": {
   "codemirror_mode": {
    "name": "ipython",
    "version": 3
   },
   "file_extension": ".py",
   "mimetype": "text/x-python",
   "name": "python",
   "nbconvert_exporter": "python",
   "pygments_lexer": "ipython3",
   "version": "3.11.9"
  }
 },
 "nbformat": 4,
 "nbformat_minor": 2
}
