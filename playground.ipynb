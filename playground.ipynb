{
 "cells": [
  {
   "cell_type": "code",
   "execution_count": 16,
   "metadata": {},
   "outputs": [],
   "source": [
    "import duckdb\n",
    "import pandas as pd\n",
    "import pyarrow.parquet as pq\n",
    "from itertools import islice, tee\n",
    "\n",
    "from src.core import Data, Reader"
   ]
  },
  {
   "cell_type": "code",
   "execution_count": 17,
   "metadata": {},
   "outputs": [],
   "source": [
    "d = \"/home/anadirov/Documents/big.parquet\"\n",
    "# pd_df = pd.read_parquet(d)\n",
    "\n",
    "# q = f\"\"\"\n",
    "#     create table data as select * from \"{d}\"\n",
    "# \"\"\".strip()"
   ]
  },
  {
   "cell_type": "code",
   "execution_count": 18,
   "metadata": {},
   "outputs": [],
   "source": [
    "df = duckdb.read_parquet(d)"
   ]
  },
  {
   "cell_type": "code",
   "execution_count": 4,
   "metadata": {},
   "outputs": [],
   "source": [
    "parquet_file = pq.ParquetFile(d)\n",
    "gen = parquet_file.iter_batches(batch_size=1000)"
   ]
  },
  {
   "cell_type": "code",
   "execution_count": 5,
   "metadata": {},
   "outputs": [],
   "source": [
    "def nth_item(generator, n):\n",
    "    return next(islice(generator, n, n+1), None)"
   ]
  },
  {
   "cell_type": "code",
   "execution_count": 6,
   "metadata": {},
   "outputs": [],
   "source": [
    "def count_items(generator):\n",
    "    return sum(1 for _ in generator)\n",
    "\n",
    "def count_and_copy(generator):\n",
    "    gen_copy, gen_count = tee(generator)\n",
    "    count = sum(1 for _ in gen_count)\n",
    "    return gen_copy, count\n",
    "\n",
    "\n",
    "# count_and_copy(gen)"
   ]
  },
  {
   "cell_type": "code",
   "execution_count": 7,
   "metadata": {},
   "outputs": [],
   "source": [
    "r = df.query(\"data\", \"select * from data limit 10000\")"
   ]
  },
  {
   "cell_type": "code",
   "execution_count": 8,
   "metadata": {},
   "outputs": [],
   "source": [
    "bats = r.to_arrow_table().to_batches(10)"
   ]
  },
  {
   "cell_type": "code",
   "execution_count": 9,
   "metadata": {},
   "outputs": [],
   "source": [
    "big = Data(path = d, \n",
    "           virtual_table_name = \"data\", \n",
    "           query = \"select item_id, __index_level_0__ from data order by __index_level_0__\")"
   ]
  },
  {
   "cell_type": "code",
   "execution_count": 11,
   "metadata": {},
   "outputs": [
    {
     "data": {
      "text/plain": [
       "['item_id', 'user_id', 'rank_ctb', '__index_level_0__']"
      ]
     },
     "execution_count": 11,
     "metadata": {},
     "output_type": "execute_result"
    }
   ],
   "source": [
    "big.columns"
   ]
  },
  {
   "cell_type": "code",
   "execution_count": 12,
   "metadata": {},
   "outputs": [],
   "source": [
    "r = big.search('700506', \"item_id\")"
   ]
  },
  {
   "cell_type": "code",
   "execution_count": null,
   "metadata": {},
   "outputs": [],
   "source": [
    "# df.query(\"data\",\n",
    "#          \"select item_id, __index_level_0__ from data order by __index_level_0__\")\\\n",
    "#          .query(\"data_\", \n",
    "#                 \"\"\"SELECT * \n",
    "#                     FROM data\n",
    "#                     WHERE CAST(item_id as VARCHAR) ILIKE '%700506%'\n",
    "#                 \"\"\")"
   ]
  },
  {
   "cell_type": "code",
   "execution_count": null,
   "metadata": {},
   "outputs": [],
   "source": []
  },
  {
   "cell_type": "code",
   "execution_count": null,
   "metadata": {},
   "outputs": [],
   "source": []
  },
  {
   "cell_type": "code",
   "execution_count": null,
   "metadata": {},
   "outputs": [],
   "source": []
  }
 ],
 "metadata": {
  "kernelspec": {
   "display_name": ".venv",
   "language": "python",
   "name": "python3"
  },
  "language_info": {
   "codemirror_mode": {
    "name": "ipython",
    "version": 3
   },
   "file_extension": ".py",
   "mimetype": "text/x-python",
   "name": "python",
   "nbconvert_exporter": "python",
   "pygments_lexer": "ipython3",
   "version": "3.10.12"
  }
 },
 "nbformat": 4,
 "nbformat_minor": 2
}
