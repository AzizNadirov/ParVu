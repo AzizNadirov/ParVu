{
 "cells": [
  {
   "cell_type": "code",
   "execution_count": 6,
   "metadata": {},
   "outputs": [],
   "source": [
    "import duckdb\n",
    "import pandas as pd\n",
    "from io import StringIO\n",
    "import pyarrow.parquet as pq\n",
    "\n",
    "# Connect to the DuckDB database\n",
    "conn = duckdb.connect(':memory:')"
   ]
  },
  {
   "cell_type": "code",
   "execution_count": 7,
   "metadata": {},
   "outputs": [],
   "source": [
    "d = \"/home/anadirov/Documents/big.parquet\"\n",
    "# pd_df = pd.read_parquet(d)\n",
    "\n",
    "# q = f\"\"\"\n",
    "#     create table data as select * from \"{d}\"\n",
    "# \"\"\".strip()"
   ]
  },
  {
   "cell_type": "code",
   "execution_count": 8,
   "metadata": {},
   "outputs": [],
   "source": [
    "df = duckdb.read_parquet(d)"
   ]
  },
  {
   "cell_type": "code",
   "execution_count": 18,
   "metadata": {},
   "outputs": [],
   "source": [
    "parquet_file = pq.ParquetFile(d)\n",
    "gen = parquet_file.iter_batches(batch_size=1000)"
   ]
  },
  {
   "cell_type": "code",
   "execution_count": 33,
   "metadata": {},
   "outputs": [
    {
     "data": {
      "text/html": [
       "<div>\n",
       "<style scoped>\n",
       "    .dataframe tbody tr th:only-of-type {\n",
       "        vertical-align: middle;\n",
       "    }\n",
       "\n",
       "    .dataframe tbody tr th {\n",
       "        vertical-align: top;\n",
       "    }\n",
       "\n",
       "    .dataframe thead th {\n",
       "        text-align: right;\n",
       "    }\n",
       "</style>\n",
       "<table border=\"1\" class=\"dataframe\">\n",
       "  <thead>\n",
       "    <tr style=\"text-align: right;\">\n",
       "      <th></th>\n",
       "      <th>item_id</th>\n",
       "      <th>user_id</th>\n",
       "      <th>rank_ctb</th>\n",
       "    </tr>\n",
       "  </thead>\n",
       "  <tbody>\n",
       "    <tr>\n",
       "      <th>33894709</th>\n",
       "      <td>190308</td>\n",
       "      <td>42c59b1f-7e5f-498a-b796-cdb96f1c74f2</td>\n",
       "      <td>1</td>\n",
       "    </tr>\n",
       "    <tr>\n",
       "      <th>33893901</th>\n",
       "      <td>249520</td>\n",
       "      <td>a81406be-c304-4838-ad11-71b3541162af</td>\n",
       "      <td>1</td>\n",
       "    </tr>\n",
       "    <tr>\n",
       "      <th>33893764</th>\n",
       "      <td>249520</td>\n",
       "      <td>8ba5aeae-c11b-4d9e-95c2-2f68a95fc2f5</td>\n",
       "      <td>1</td>\n",
       "    </tr>\n",
       "    <tr>\n",
       "      <th>33892910</th>\n",
       "      <td>249568</td>\n",
       "      <td>efffb212-04de-4b7c-880f-67529cec1451</td>\n",
       "      <td>1</td>\n",
       "    </tr>\n",
       "    <tr>\n",
       "      <th>33892983</th>\n",
       "      <td>249568</td>\n",
       "      <td>f82bc038-5300-4f96-8d30-c3c0aa670556</td>\n",
       "      <td>1</td>\n",
       "    </tr>\n",
       "    <tr>\n",
       "      <th>...</th>\n",
       "      <td>...</td>\n",
       "      <td>...</td>\n",
       "      <td>...</td>\n",
       "    </tr>\n",
       "    <tr>\n",
       "      <th>33839319</th>\n",
       "      <td>235592</td>\n",
       "      <td>098e95c5-fd8e-4074-8cda-131661575172</td>\n",
       "      <td>1</td>\n",
       "    </tr>\n",
       "    <tr>\n",
       "      <th>47879830</th>\n",
       "      <td>723521</td>\n",
       "      <td>54bc9bf4-c465-4e73-8ea4-a870bfc4399b</td>\n",
       "      <td>1</td>\n",
       "    </tr>\n",
       "    <tr>\n",
       "      <th>58390365</th>\n",
       "      <td>686538</td>\n",
       "      <td>1092ef86-522b-4cda-90f2-2ca5dd96f976</td>\n",
       "      <td>1</td>\n",
       "    </tr>\n",
       "    <tr>\n",
       "      <th>33839433</th>\n",
       "      <td>235592</td>\n",
       "      <td>262f45e2-6565-42eb-a92f-be9af54f0e93</td>\n",
       "      <td>1</td>\n",
       "    </tr>\n",
       "    <tr>\n",
       "      <th>62431715</th>\n",
       "      <td>427611</td>\n",
       "      <td>a9c95412-69d6-4a41-b283-e16f87931d35</td>\n",
       "      <td>1</td>\n",
       "    </tr>\n",
       "  </tbody>\n",
       "</table>\n",
       "<p>1000 rows × 3 columns</p>\n",
       "</div>"
      ],
      "text/plain": [
       "          item_id                               user_id  rank_ctb\n",
       "33894709   190308  42c59b1f-7e5f-498a-b796-cdb96f1c74f2         1\n",
       "33893901   249520  a81406be-c304-4838-ad11-71b3541162af         1\n",
       "33893764   249520  8ba5aeae-c11b-4d9e-95c2-2f68a95fc2f5         1\n",
       "33892910   249568  efffb212-04de-4b7c-880f-67529cec1451         1\n",
       "33892983   249568  f82bc038-5300-4f96-8d30-c3c0aa670556         1\n",
       "...           ...                                   ...       ...\n",
       "33839319   235592  098e95c5-fd8e-4074-8cda-131661575172         1\n",
       "47879830   723521  54bc9bf4-c465-4e73-8ea4-a870bfc4399b         1\n",
       "58390365   686538  1092ef86-522b-4cda-90f2-2ca5dd96f976         1\n",
       "33839433   235592  262f45e2-6565-42eb-a92f-be9af54f0e93         1\n",
       "62431715   427611  a9c95412-69d6-4a41-b283-e16f87931d35         1\n",
       "\n",
       "[1000 rows x 3 columns]"
      ]
     },
     "execution_count": 33,
     "metadata": {},
     "output_type": "execute_result"
    }
   ],
   "source": [
    "next(gen).to_pandas()"
   ]
  },
  {
   "cell_type": "code",
   "execution_count": null,
   "metadata": {},
   "outputs": [],
   "source": []
  },
  {
   "cell_type": "code",
   "execution_count": null,
   "metadata": {},
   "outputs": [],
   "source": []
  },
  {
   "cell_type": "code",
   "execution_count": null,
   "metadata": {},
   "outputs": [],
   "source": []
  },
  {
   "cell_type": "code",
   "execution_count": null,
   "metadata": {},
   "outputs": [],
   "source": []
  },
  {
   "cell_type": "code",
   "execution_count": 11,
   "metadata": {},
   "outputs": [],
   "source": [
    "# duckdb.from_df(i.to_pandas()).query(\"data\", \"select ProductName from  data\")"
   ]
  }
 ],
 "metadata": {
  "kernelspec": {
   "display_name": ".venv",
   "language": "python",
   "name": "python3"
  },
  "language_info": {
   "codemirror_mode": {
    "name": "ipython",
    "version": 3
   },
   "file_extension": ".py",
   "mimetype": "text/x-python",
   "name": "python",
   "nbconvert_exporter": "python",
   "pygments_lexer": "ipython3",
   "version": "3.10.12"
  }
 },
 "nbformat": 4,
 "nbformat_minor": 2
}
