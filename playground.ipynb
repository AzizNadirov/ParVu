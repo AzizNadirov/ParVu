{
 "cells": [
  {
   "cell_type": "code",
   "execution_count": null,
   "metadata": {},
   "outputs": [],
   "source": [
    "import duckdb\n",
    "import pandas as pd\n",
    "from io import StringIO\n",
    "\n",
    "# Connect to the DuckDB database\n",
    "conn = duckdb.connect(':memory:')"
   ]
  },
  {
   "cell_type": "code",
   "execution_count": 21,
   "metadata": {},
   "outputs": [],
   "source": [
    "df = pd.read_parquet(\"/home/anadirov/Documents/si.parquet\")\n"
   ]
  },
  {
   "cell_type": "code",
   "execution_count": 25,
   "metadata": {},
   "outputs": [],
   "source": [
    "def render_df_info(df: pd.DataFrame) -> str:\n",
    "    buff = StringIO()\n",
    "    df.info(buf=buff)\n",
    "    info_str = buff.getvalue()\n",
    "    lines = info_str.split(\"\\n\")\n",
    "    shape = f\"#### Rows{df.shape[0]}, Columns: {df.shape[1]}\"\n",
    "    column_lines = lines[5:27]\n",
    "    markdown_table = \"| # | Column | Non-Null Count | Dtype |\\n\"\n",
    "    markdown_table += \"|---|--------|----------------|-------|\\n\"\n",
    "\n",
    "    # Iterate over the column lines and extract the details\n",
    "    for line in column_lines:\n",
    "        parts = line.split()\n",
    "        index = parts[0]\n",
    "        column = \" \".join(parts[1:-3])\n",
    "        non_null_count = parts[-3]\n",
    "        dtype = parts[-1]\n",
    "        \n",
    "        # Add the row to the markdown table\n",
    "        markdown_table += f\"| {index} | {column} | {non_null_count} | {dtype} |\\n\"\n",
    "\n",
    "    return f\"{shape}\\n{markdown_table}\"\n"
   ]
  },
  {
   "cell_type": "code",
   "execution_count": null,
   "metadata": {},
   "outputs": [],
   "source": []
  },
  {
   "cell_type": "code",
   "execution_count": null,
   "metadata": {},
   "outputs": [],
   "source": []
  },
  {
   "cell_type": "code",
   "execution_count": null,
   "metadata": {},
   "outputs": [],
   "source": []
  }
 ],
 "metadata": {
  "kernelspec": {
   "display_name": ".venv",
   "language": "python",
   "name": "python3"
  },
  "language_info": {
   "codemirror_mode": {
    "name": "ipython",
    "version": 3
   },
   "file_extension": ".py",
   "mimetype": "text/x-python",
   "name": "python",
   "nbconvert_exporter": "python",
   "pygments_lexer": "ipython3",
   "version": "3.10.12"
  }
 },
 "nbformat": 4,
 "nbformat_minor": 2
}
